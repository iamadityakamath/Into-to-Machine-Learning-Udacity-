{
 "cells": [
  {
   "cell_type": "markdown",
   "metadata": {},
   "source": [
    "8."
   ]
  },
  {
   "cell_type": "code",
   "execution_count": null,
   "metadata": {},
   "outputs": [],
   "source": [
    "def classify(features_train, labels_train):\n",
    "    \n",
    "    ### your code goes here--should return a trained decision tree classifer\n",
    "    from sklearn import tree\n",
    "    \n",
    "    clf = tree.DecisionTreeClassifier()\n",
    "    clf = clf.fit(features_train, labels_train)\n",
    "    \n",
    "    \n",
    "    return clf"
   ]
  },
  {
   "cell_type": "markdown",
   "metadata": {},
   "source": [
    "9."
   ]
  },
  {
   "cell_type": "code",
   "execution_count": null,
   "metadata": {},
   "outputs": [],
   "source": [
    "import sys\n",
    "from class_vis import prettyPicture\n",
    "from prep_terrain_data import makeTerrainData\n",
    "\n",
    "import numpy as np\n",
    "import pylab as pl\n",
    "\n",
    "features_train, labels_train, features_test, labels_test = makeTerrainData()\n",
    "\n",
    "\n",
    "\n",
    "#################################################################################\n",
    "\n",
    "\n",
    "########################## DECISION TREE #################################\n",
    "\n",
    "\n",
    "\n",
    "#### your code goes here\n",
    "from sklearn import tree\n",
    "from sklearn.metrics import accuracy_score\n",
    "\n",
    "clf = tree.DecisionTreeClassifier()\n",
    "y = clf.fit(features_train, labels_train)\n",
    "pred = y.predict(features_test)\n",
    "acc = accuracy_score(pred, labels_test)\n",
    "\n",
    "### be sure to compute the accuracy on the test set\n",
    "\n",
    "\n",
    "    \n",
    "def submitAccuracies():\n",
    "  return {\"acc\":round(acc,3)}\n",
    "\n"
   ]
  },
  {
   "cell_type": "markdown",
   "metadata": {},
   "source": [
    "12."
   ]
  },
  {
   "cell_type": "code",
   "execution_count": null,
   "metadata": {},
   "outputs": [],
   "source": [
    "import sys\n",
    "from class_vis import prettyPicture\n",
    "from prep_terrain_data import makeTerrainData\n",
    "\n",
    "import matplotlib.pyplot as plt\n",
    "import numpy as np\n",
    "import pylab as pl\n",
    "\n",
    "features_train, labels_train, features_test, labels_test = makeTerrainData()\n",
    "\n",
    "\n",
    "\n",
    "########################## DECISION TREE #################################\n",
    "\n",
    "\n",
    "### your code goes here--now create 2 decision tree classifiers,\n",
    "### one with min_samples_split=2 and one with min_samples_split=50\n",
    "### compute the accuracies on the testing data and store\n",
    "### the accuracy numbers to acc_min_samples_split_2 and\n",
    "### acc_min_samples_split_50, respectively\n",
    "from sklearn import tree\n",
    "from sklearn.metrics import accuracy_score\n",
    "\n",
    "clf1 = tree.DecisionTreeClassifier(min_samples_split=2)\n",
    "y1 = clf1.fit(features_train, labels_train)\n",
    "pred = y1.predict(features_test)\n",
    "acc_min_samples_split_2 = accuracy_score(pred, labels_test)\n",
    "\n",
    "clf2 = tree.DecisionTreeClassifier(min_samples_split=50)\n",
    "y2 = clf2.fit(features_train, labels_train)\n",
    "pred = y2.predict(features_test)\n",
    "acc_min_samples_split_50 = accuracy_score(pred, labels_test)\n",
    "\n",
    "\n",
    "\n",
    "\n",
    "def submitAccuracies():\n",
    "  return {\"acc_min_samples_split_2\":round(acc_min_samples_split_2,3),\n",
    "          \"acc_min_samples_split_50\":round(acc_min_samples_split_50,3)}"
   ]
  }
 ],
 "metadata": {
  "kernelspec": {
   "display_name": "Python 3.8.8 ('base')",
   "language": "python",
   "name": "python3"
  },
  "language_info": {
   "name": "python",
   "version": "3.8.8"
  },
  "orig_nbformat": 4,
  "vscode": {
   "interpreter": {
    "hash": "04457f33c9d257a1653aacc8f0cb353c6a3bcc24b64c3b0dbb7ed006e9e80dd0"
   }
  }
 },
 "nbformat": 4,
 "nbformat_minor": 2
}
